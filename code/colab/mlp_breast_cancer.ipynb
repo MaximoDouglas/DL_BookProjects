{
  "nbformat": 4,
  "nbformat_minor": 0,
  "metadata": {
    "colab": {
      "name": "mlp_breast-cancer.ipynb",
      "version": "0.3.2",
      "provenance": [],
      "collapsed_sections": [],
      "toc_visible": true,
      "include_colab_link": true
    },
    "kernelspec": {
      "name": "python3",
      "display_name": "Python 3"
    },
    "accelerator": "GPU"
  },
  "cells": [
    {
      "cell_type": "markdown",
      "metadata": {
        "id": "view-in-github",
        "colab_type": "text"
      },
      "source": [
        "<a href=\"https://colab.research.google.com/github/MaximoDouglas/deep_learning/blob/master/code/colab/mlp_breast_cancer.ipynb\" target=\"_parent\"><img src=\"https://colab.research.google.com/assets/colab-badge.svg\" alt=\"Open In Colab\"/></a>"
      ]
    },
    {
      "metadata": {
        "id": "co4MgreoOh9A",
        "colab_type": "text"
      },
      "cell_type": "markdown",
      "source": [
        "# Upload the .csv file\n",
        "breast-cancer-wisconsin.csv"
      ]
    },
    {
      "metadata": {
        "id": "V_j8CUcDIACp",
        "colab_type": "code",
        "colab": {}
      },
      "cell_type": "code",
      "source": [
        "from google.colab import files\n",
        "\n",
        "uploaded = files.upload()"
      ],
      "execution_count": 0,
      "outputs": []
    },
    {
      "metadata": {
        "colab_type": "text",
        "id": "tsGPu0rUPHMu"
      },
      "cell_type": "markdown",
      "source": [
        "# Code - Maximo, D.H.\n",
        "\n",
        "This code is working with automatically splited training and validating data.\n",
        "Also, the X values are beeing scaled with sklearn preprocessing"
      ]
    },
    {
      "metadata": {
        "colab_type": "code",
        "id": "yC_k4mZ0PHMy",
        "colab": {}
      },
      "cell_type": "code",
      "source": [
        "from keras.models import Sequential\n",
        "from keras.layers import Dense\n",
        "from sklearn import preprocessing\n",
        "import numpy as np\n",
        "import pandas as pd\n",
        "import matplotlib.pyplot as plt\n",
        "\n",
        "# Fixed random seed for reproducibility - it allows that no matter if we execute \n",
        "#     the code more than one time, the random values have to be the same\n",
        "seed = 7\n",
        "np.random.seed(seed)\n",
        "\n",
        "# load pima indians dataset\n",
        "df = pd.read_csv(\"breast-cancer-wisconsin.csv\")\n",
        "\n",
        "# drop rows with '?' - This can be solved using better methods\n",
        "df = df[~(df == '?').any(axis=1)]\n",
        "\n",
        "# drop the id column - The id is not necessary\n",
        "df.drop(['id'], 1, inplace=True)\n",
        "\n",
        "# Getting the input X from the df and scaling it using sklearn preprocessing\n",
        "X = preprocessing.scale(np.array(df.drop(['class'],1)))\n",
        "\n",
        "# The original dataset have the classes 4 and 2. To turn this problem into a Keras\n",
        "#     binary classification problem, I had to convert the 4 to 1 and the 2 to 0\n",
        "df['class'].replace((4, 2), (1, 0), inplace=True)\n",
        "\n",
        "# Getting the output y from the df, after the transformation\n",
        "y = df['class']\n",
        "\n",
        "# create model\n",
        "model = Sequential()\n",
        "model.add(Dense(12, input_dim=9, activation=\"relu\", kernel_initializer=\"uniform\"))\n",
        "model.add(Dense(8, activation=\"relu\", kernel_initializer=\"uniform\"))\n",
        "model.add(Dense(1, activation=\"sigmoid\", kernel_initializer=\"uniform\"))\n",
        "\n",
        "# Compile model \n",
        "#     binary_crossentropy = logarithmic loss\n",
        "#     adam = gradient descent algorithm\n",
        "model.compile(loss='mean_squared_error', optimizer='adam', metrics=['accuracy'])\n",
        "\n",
        "# Fit the model\n",
        "history = model.fit(X, y, verbose=0, validation_split=0.2, epochs=150, batch_size=10)\n",
        "\n",
        "# Plot training & validation accuracy values\n",
        "plt.plot(history.history['acc'])\n",
        "plt.plot(history.history['val_acc'])\n",
        "plt.title('Model accuracy')\n",
        "plt.ylabel('Accuracy')\n",
        "plt.xlabel('Epoch')\n",
        "plt.legend(['Train', 'Test'], loc='upper left')\n",
        "plt.savefig('fitness.png', dpi=fig.dpi)\n",
        "plt.show()"
      ],
      "execution_count": 0,
      "outputs": []
    }
  ]
}