{
  "nbformat": 4,
  "nbformat_minor": 0,
  "metadata": {
    "colab": {
      "name": "data_augmentation_ImageGen.ipynb",
      "version": "0.3.2",
      "provenance": [],
      "collapsed_sections": [],
      "include_colab_link": true
    },
    "kernelspec": {
      "name": "python3",
      "display_name": "Python 3"
    }
  },
  "cells": [
    {
      "cell_type": "markdown",
      "metadata": {
        "id": "view-in-github",
        "colab_type": "text"
      },
      "source": [
        "<a href=\"https://colab.research.google.com/github/MaximoDouglas/deep_learning/blob/master/code/colab/part_five/data_augmentation_ImageGen.ipynb\" target=\"_parent\"><img src=\"https://colab.research.google.com/assets/colab-badge.svg\" alt=\"Open In Colab\"/></a>"
      ]
    },
    {
      "metadata": {
        "id": "XRSqJ3WhMBvm",
        "colab_type": "text"
      },
      "cell_type": "markdown",
      "source": [
        "# Standard Normalization - adapted"
      ]
    },
    {
      "metadata": {
        "id": "lxbC7_0QMFRg",
        "colab_type": "code",
        "colab": {}
      },
      "cell_type": "code",
      "source": [
        "# Standardize images across the dataset, mean=0, stdev=1\n",
        "from keras.datasets import mnist\n",
        "from keras.preprocessing.image import ImageDataGenerator\n",
        "from matplotlib import pyplot\n",
        "\n",
        "# load data\n",
        "(X_train, y_train), (X_test, y_test) = mnist.load_data()\n",
        "\n",
        "# reshape to be [samples][pixels][width][height]\n",
        "X_train = X_train.reshape(X_train.shape[0], 1, 28, 28)\n",
        "X_test = X_test.reshape(X_test.shape[0], 1, 28, 28)\n",
        "\n",
        "# convert from int to float\n",
        "X_train = X_train.astype('float32')\n",
        "X_test = X_test.astype('float32')\n",
        "\n",
        "# define data preparation\n",
        "datagen = ImageDataGenerator(featurewise_center=True, featurewise_std_normalization=True)\n",
        "\n",
        "# fit parameters from data\n",
        "datagen.fit(X_train)\n",
        "\n",
        "# configure batch size and retrieve one batch of images\n",
        "for X_batch, y_batch in datagen.flow(X_train, y_train, batch_size=9):\n",
        "    # create a grid of 3x3 images\n",
        "    for i in range(0, 9):\n",
        "        pyplot.subplot(330 + 1 + i)\n",
        "        pyplot.imshow(X_batch[i].reshape(28, 28), cmap=pyplot.get_cmap('gray'))\n",
        "\n",
        "    # show the plot\n",
        "    pyplot.show()\n",
        "    break\n"
      ],
      "execution_count": 0,
      "outputs": []
    },
    {
      "metadata": {
        "id": "XGrvExpZMZe7",
        "colab_type": "text"
      },
      "cell_type": "markdown",
      "source": [
        "# ZCA Whitening - adapted"
      ]
    },
    {
      "metadata": {
        "id": "iLhrc8p6McXU",
        "colab_type": "code",
        "colab": {}
      },
      "cell_type": "code",
      "source": [
        "# ZCA whitening\n",
        "from keras.datasets import mnist\n",
        "from keras.preprocessing.image import ImageDataGenerator\n",
        "from matplotlib import pyplot\n",
        "\n",
        "# load data\n",
        "(X_train, y_train), (X_test, y_test) = mnist.load_data()\n",
        "\n",
        "# reshape to be [samples][pixels][width][height]\n",
        "X_train = X_train.reshape(X_train.shape[0], 28, 28, 1)\n",
        "X_test = X_test.reshape(X_test.shape[0], 28, 28, 1)\n",
        "\n",
        "# convert from int to float\n",
        "X_train = X_train.astype('float32')\n",
        "X_test = X_test.astype('float32')\n",
        "\n",
        "# define data preparation\n",
        "datagen = ImageDataGenerator(zca_whitening=True, featurewise_center=True)\n",
        "\n",
        "# fit parameters from data\n",
        "datagen.fit(X_train)\n",
        "\n",
        "# configure batch size and retrieve one batch of images\n",
        "for X_batch, y_batch in datagen.flow(X_train, y_train, batch_size=9):\n",
        "    # create a grid of 3x3 images\n",
        "    for i in range(0, 9):\n",
        "        pyplot.subplot(330 + 1 + i)\n",
        "        pyplot.imshow(X_batch[i].reshape(28, 28), cmap=pyplot.get_cmap('gray'))\n",
        "\n",
        "    # show the plot\n",
        "    pyplot.show()\n",
        "    break\n"
      ],
      "execution_count": 0,
      "outputs": []
    },
    {
      "metadata": {
        "id": "7JOUOqVAMoIY",
        "colab_type": "text"
      },
      "cell_type": "markdown",
      "source": [
        "# Random rotations - adapted"
      ]
    },
    {
      "metadata": {
        "id": "9lVM6zgFMrDI",
        "colab_type": "code",
        "colab": {}
      },
      "cell_type": "code",
      "source": [
        "# Random Rotations\n",
        "from keras.datasets import mnist\n",
        "from keras.preprocessing.image import ImageDataGenerator\n",
        "from matplotlib import pyplot\n",
        "\n",
        "# load data\n",
        "(X_train, y_train), (X_test, y_test) = mnist.load_data()\n",
        "\n",
        "# reshape to be [samples][pixels][width][height]\n",
        "X_train = X_train.reshape(X_train.shape[0], 28, 28, 1)\n",
        "X_test = X_test.reshape(X_test.shape[0], 28, 28, 1)\n",
        "\n",
        "# convert from int to float\n",
        "X_train = X_train.astype('float32')\n",
        "X_test = X_test.astype('float32')\n",
        "\n",
        "# define data preparation\n",
        "datagen = ImageDataGenerator(rotation_range=90)\n",
        "\n",
        "# fit parameters from data\n",
        "datagen.fit(X_train)\n",
        "\n",
        "# configure batch size and retrieve one batch of images\n",
        "for X_batch, y_batch in datagen.flow(X_train, y_train, batch_size=9):\n",
        "    # create a grid of 3x3 images\n",
        "    for i in range(0, 9):\n",
        "        pyplot.subplot(330 + 1 + i)\n",
        "        pyplot.imshow(X_batch[i].reshape(28, 28), cmap=pyplot.get_cmap('gray'))\n",
        "\n",
        "    # show the plot\n",
        "    pyplot.show()\n",
        "    break\n"
      ],
      "execution_count": 0,
      "outputs": []
    },
    {
      "metadata": {
        "id": "sATrMBt_M_am",
        "colab_type": "text"
      },
      "cell_type": "markdown",
      "source": [
        "# Random Shifts - adapted"
      ]
    },
    {
      "metadata": {
        "id": "uN7LE_4tM_lW",
        "colab_type": "code",
        "colab": {}
      },
      "cell_type": "code",
      "source": [
        "# Random Shifts\n",
        "from keras.datasets import mnist\n",
        "from keras.preprocessing.image import ImageDataGenerator\n",
        "from matplotlib import pyplot\n",
        "\n",
        "# load data\n",
        "(X_train, y_train), (X_test, y_test) = mnist.load_data()\n",
        "\n",
        "# reshape to be [samples][pixels][width][height]\n",
        "X_train = X_train.reshape(X_train.shape[0], 28, 28, 1)\n",
        "X_test = X_test.reshape(X_test.shape[0], 28, 28, 1)\n",
        "\n",
        "# convert from int to float\n",
        "X_train = X_train.astype('float32')\n",
        "X_test = X_test.astype('float32')\n",
        "\n",
        "# define data preparation\n",
        "shift = 0.2\n",
        "datagen = ImageDataGenerator(width_shift_range=shift, height_shift_range=shift)\n",
        "\n",
        "# fit parameters from data\n",
        "datagen.fit(X_train)\n",
        "\n",
        "# configure batch size and retrieve one batch of images\n",
        "for X_batch, y_batch in datagen.flow(X_train, y_train, batch_size=9):\n",
        "    # create a grid of 3x3 images\n",
        "    for i in range(0, 9):\n",
        "        pyplot.subplot(330 + 1 + i)\n",
        "        pyplot.imshow(X_batch[i].reshape(28, 28), cmap=pyplot.get_cmap('gray'))\n",
        "    # show the plot\n",
        "    pyplot.show()\n",
        "    break\n"
      ],
      "execution_count": 0,
      "outputs": []
    }
  ]
}