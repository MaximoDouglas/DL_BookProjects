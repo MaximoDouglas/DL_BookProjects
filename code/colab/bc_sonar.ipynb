{
  "nbformat": 4,
  "nbformat_minor": 0,
  "metadata": {
    "colab": {
      "name": "bc_sonar.ipynb",
      "version": "0.3.2",
      "provenance": [],
      "collapsed_sections": [],
      "include_colab_link": true
    },
    "kernelspec": {
      "name": "python3",
      "display_name": "Python 3"
    }
  },
  "cells": [
    {
      "cell_type": "markdown",
      "metadata": {
        "id": "view-in-github",
        "colab_type": "text"
      },
      "source": [
        "<a href=\"https://colab.research.google.com/github/MaximoDouglas/DL_BookProjects/blob/master/code/colab/bc_sonar.ipynb\" target=\"_parent\"><img src=\"https://colab.research.google.com/assets/colab-badge.svg\" alt=\"Open In Colab\"/></a>"
      ]
    },
    {
      "metadata": {
        "id": "tMpEtM9Irwxy",
        "colab_type": "text"
      },
      "cell_type": "markdown",
      "source": [
        "# Get the data file"
      ]
    },
    {
      "metadata": {
        "id": "i7z63JDcr1tr",
        "colab_type": "code",
        "colab": {}
      },
      "cell_type": "code",
      "source": [
        "!wget \"https://archive.ics.uci.edu/ml/machine-learning-databases/undocumented/connectionist-bench/sonar/sonar.all-data\" -O sonar.data"
      ],
      "execution_count": 0,
      "outputs": []
    },
    {
      "metadata": {
        "id": "DGOle30StkJr",
        "colab_type": "text"
      },
      "cell_type": "markdown",
      "source": [
        "# Code - direct from the book (adapted)\n",
        "\n",
        "Accuracy: 80.78%\n",
        "\n",
        "Standard deviation: 5.35%"
      ]
    },
    {
      "metadata": {
        "id": "wXVa1_UntoGT",
        "colab_type": "code",
        "colab": {}
      },
      "cell_type": "code",
      "source": [
        "# Binary Classification with Sonar Dataset: Baseline\n",
        "import numpy\n",
        "import pandas\n",
        "from keras.models import Sequential\n",
        "from keras.layers import Dense\n",
        "from keras.wrappers.scikit_learn import KerasClassifier\n",
        "from sklearn.model_selection import cross_val_score\n",
        "from sklearn.preprocessing import LabelEncoder\n",
        "from sklearn.model_selection import StratifiedKFold\n",
        "from sklearn.preprocessing import StandardScaler\n",
        "from sklearn.pipeline import Pipeline\n",
        "\n",
        "# fix random seed for reproducibility\n",
        "seed = 7\n",
        "numpy.random.seed(seed)\n",
        "\n",
        "# ----- Begin data preprocessing\n",
        "\n",
        "# load dataset\n",
        "dataframe = pandas.read_csv(\"sonar.data\", header=None)\n",
        "dataset = dataframe.values\n",
        "\n",
        "# split into input (X) and output (Y) variables\n",
        "X = dataset[:,0:60].astype(float)\n",
        "Y = dataset[:,60]\n",
        "\n",
        "# encode class values as integers\n",
        "encoder = LabelEncoder()\n",
        "encoder.fit(Y)\n",
        "encoded_Y = encoder.transform(Y)\n",
        "\n",
        "# ----- End data preprocessing\n",
        "\n",
        "# baseline model\n",
        "def create_baseline():\n",
        "  # create model\n",
        "  model = Sequential()\n",
        "  model.add(Dense(60, input_dim=60, kernel_initializer='normal', activation='relu'))\n",
        "  model.add(Dense(1, kernel_initializer='normal', activation='sigmoid'))\n",
        "  # Compile model\n",
        "  model.compile(loss='binary_crossentropy', optimizer='adam', metrics=['accuracy'])\n",
        "  return model\n",
        "\n",
        "# evaluate model with standardized dataset\n",
        "estimator = KerasClassifier(build_fn=create_baseline, epochs=100, batch_size=5)\n",
        "skfold = StratifiedKFold(n_splits=10, shuffle=True, random_state=seed)\n",
        "results = cross_val_score(estimator, X, encoded_Y, cv=skfold)\n",
        "\n",
        "# Summarize\n",
        "print(\"Baseline: %.2f%% (%.2f%%)\" % (results.mean()*100, results.std()*100))"
      ],
      "execution_count": 0,
      "outputs": []
    },
    {
      "metadata": {
        "colab_type": "text",
        "id": "lkOLTsjs2zij"
      },
      "cell_type": "markdown",
      "source": [
        "# Code - modified by Maximo, D.H. \n",
        "\n",
        "Accuracy: 80.78%\n",
        "\n",
        "Standard deviation: 5.35%"
      ]
    },
    {
      "metadata": {
        "colab_type": "code",
        "id": "2BeR4hWU2zir",
        "colab": {}
      },
      "cell_type": "code",
      "source": [
        "# Accuracy: 80.78%\n",
        "# Standard deviation: 5.35%\n",
        "\n",
        "# Binary Classification with Sonar Dataset - StratifiedKFold evaluation\n",
        "import numpy as np\n",
        "import pandas as pd\n",
        "from keras.models import Sequential\n",
        "from keras.layers import Dense\n",
        "from keras.wrappers.scikit_learn import KerasClassifier\n",
        "from sklearn.model_selection import cross_val_score\n",
        "from sklearn.preprocessing import LabelEncoder\n",
        "from sklearn.model_selection import StratifiedKFold\n",
        "from sklearn.preprocessing import StandardScaler\n",
        "from sklearn.pipeline import Pipeline\n",
        "\n",
        "# fix random seed for reproducibility\n",
        "seed = 7\n",
        "np.random.seed(seed)\n",
        "\n",
        "# ----- Begin data preprocessing\n",
        "# load dataset\n",
        "df = pd.read_csv(\"sonar.data\", header=None)\n",
        "\n",
        "# split into input (X) and output (Y) variables\n",
        "X = df.drop(df.columns[-1],1)\n",
        "y = df[df.columns[-1]]\n",
        "\n",
        "# encode class values as integers\n",
        "encoder = LabelEncoder()\n",
        "encoder.fit(y)\n",
        "encoded_y = encoder.transform(y)\n",
        "# ----- End data preprocessing\n",
        "\n",
        "# baseline model\n",
        "def create_model():\n",
        "  # create model\n",
        "  model = Sequential()\n",
        "  model.add(Dense(60, input_dim=60, kernel_initializer=\"normal\", activation=\"relu\"))\n",
        "  model.add(Dense(1, kernel_initializer=\"normal\", activation=\"sigmoid\"))\n",
        "\n",
        "  # Compile model\n",
        "  model.compile(loss=\"binary_crossentropy\", optimizer=\"adam\", metrics=['accuracy'])\n",
        "  return model\n",
        "\n",
        "# evaluate model with standardized dataset\n",
        "estimator = KerasClassifier(build_fn=create_model, epochs=100, batch_size=5)\n",
        "skfold = StratifiedKFold(n_splits=10, shuffle=True, random_state=seed)\n",
        "results = cross_val_score(estimator, X, encoded_y, cv=skfold)\n",
        "\n",
        "# Summarize\n",
        "print(\"Accuracy: %.2f%%\" % (results.mean()*100))\n",
        "print(\"Standard deviation: %.2f%%\" % (results.std()*100))\n"
      ],
      "execution_count": 0,
      "outputs": []
    }
  ]
}