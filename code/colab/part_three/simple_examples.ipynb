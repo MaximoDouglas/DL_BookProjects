{
  "nbformat": 4,
  "nbformat_minor": 0,
  "metadata": {
    "colab": {
      "name": "simple_examples.ipynb",
      "version": "0.3.2",
      "provenance": [],
      "collapsed_sections": [],
      "include_colab_link": true
    },
    "kernelspec": {
      "name": "python3",
      "display_name": "Python 3"
    },
    "accelerator": "GPU"
  },
  "cells": [
    {
      "cell_type": "markdown",
      "metadata": {
        "id": "view-in-github",
        "colab_type": "text"
      },
      "source": [
        "<a href=\"https://colab.research.google.com/github/MaximoDouglas/DL_BookProjects/blob/master/code/colab/part_three/simple_examples.ipynb\" target=\"_parent\"><img src=\"https://colab.research.google.com/assets/colab-badge.svg\" alt=\"Open In Colab\"/></a>"
      ]
    },
    {
      "metadata": {
        "id": "9lbVELnEa3--",
        "colab_type": "text"
      },
      "cell_type": "markdown",
      "source": [
        "# Theano Simple Example"
      ]
    },
    {
      "metadata": {
        "id": "0Bs3zO9JkgxN",
        "colab_type": "code",
        "outputId": "1b8002ca-caae-4578-a6b7-e4ffc71e9012",
        "colab": {
          "base_uri": "https://localhost:8080/",
          "height": 34
        }
      },
      "cell_type": "code",
      "source": [
        "import theano\n",
        "from theano import tensor\n",
        "\n",
        "# declare two symbolic floating-point scalars\n",
        "a = tensor.dscalar()\n",
        "b = tensor.dscalar()\n",
        "\n",
        "# create a simple symbolic expression\n",
        "c = a + b\n",
        "\n",
        "# convert the expression into a callable object that takes (a,b) and computes c\n",
        "f = theano.function([a,b], c)\n",
        "\n",
        "# bind 1.5 to 'a', 2.5 to 'b', and evaluate 'c'\n",
        "result = f(1.5, 2.5)\n",
        "print(result)"
      ],
      "execution_count": 0,
      "outputs": [
        {
          "output_type": "stream",
          "text": [
            "4.0\n"
          ],
          "name": "stdout"
        }
      ]
    },
    {
      "metadata": {
        "id": "vPEMguU-bALc",
        "colab_type": "text"
      },
      "cell_type": "markdown",
      "source": [
        "# Tensorflow simple example"
      ]
    },
    {
      "metadata": {
        "id": "64WLOIp2bE_N",
        "colab_type": "code",
        "outputId": "9aed4e29-c0a3-48ae-97d1-51950faf82f4",
        "colab": {
          "base_uri": "https://localhost:8080/",
          "height": 34
        }
      },
      "cell_type": "code",
      "source": [
        "# Example of TensorFlow library\n",
        "import tensorflow as tf\n",
        "\n",
        "# declare two symbolic floating-point scalars\n",
        "a = tf.placeholder(tf.float32)\n",
        "b = tf.placeholder(tf.float32)\n",
        "\n",
        "# create a simple symbolic expression using the add function\n",
        "add = tf.add(a, b)\n",
        "\n",
        "# bind 1.5 to 'a', 2.5 to 'b', and evaluate 'c'\n",
        "sess = tf.Session()\n",
        "binding = {a: 1.5, b: 2.5}\n",
        "c = sess.run(add, feed_dict=binding)\n",
        "print(c)"
      ],
      "execution_count": 0,
      "outputs": [
        {
          "output_type": "stream",
          "text": [
            "4.0\n"
          ],
          "name": "stdout"
        }
      ]
    }
  ]
}