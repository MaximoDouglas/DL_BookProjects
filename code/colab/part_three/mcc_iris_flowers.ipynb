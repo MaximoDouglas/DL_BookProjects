{
  "nbformat": 4,
  "nbformat_minor": 0,
  "metadata": {
    "colab": {
      "name": "mcc_iris-flowers.ipynb",
      "version": "0.3.2",
      "provenance": [],
      "collapsed_sections": [],
      "toc_visible": true,
      "include_colab_link": true
    },
    "kernelspec": {
      "name": "python3",
      "display_name": "Python 3"
    },
    "accelerator": "GPU"
  },
  "cells": [
    {
      "cell_type": "markdown",
      "metadata": {
        "id": "view-in-github",
        "colab_type": "text"
      },
      "source": [
        "<a href=\"https://colab.research.google.com/github/MaximoDouglas/DL_BookProjects/blob/master/code/colab/mcc_iris_flowers.ipynb\" target=\"_parent\"><img src=\"https://colab.research.google.com/assets/colab-badge.svg\" alt=\"Open In Colab\"/></a>"
      ]
    },
    {
      "metadata": {
        "id": "co4MgreoOh9A",
        "colab_type": "text"
      },
      "cell_type": "markdown",
      "source": [
        "# Get the data files"
      ]
    },
    {
      "metadata": {
        "id": "Ln5xTaKmE27R",
        "colab_type": "code",
        "colab": {}
      },
      "cell_type": "code",
      "source": [
        "!wget \"http://archive.ics.uci.edu/ml/machine-learning-databases/iris/iris.data\"\n"
      ],
      "execution_count": 0,
      "outputs": []
    },
    {
      "metadata": {
        "id": "LWvGlH-pG9jP",
        "colab_type": "text"
      },
      "cell_type": "markdown",
      "source": [
        "# Code - Direct from the book (adapted)\n",
        "\n",
        "Accuracy: 88.67% \n",
        "\n",
        "Standard deviation: 21.09%"
      ]
    },
    {
      "metadata": {
        "id": "Un6Ht5fRHDN1",
        "colab_type": "code",
        "colab": {}
      },
      "cell_type": "code",
      "source": [
        "# Multiclass Classification with the Iris Flowers Dataset\n",
        "import numpy\n",
        "import pandas\n",
        "from keras.models import Sequential\n",
        "from keras.layers import Dense\n",
        "from keras.wrappers.scikit_learn import KerasClassifier\n",
        "from keras.utils import np_utils\n",
        "from sklearn.model_selection import cross_val_score\n",
        "from sklearn.model_selection import KFold\n",
        "from sklearn.preprocessing import LabelEncoder\n",
        "from sklearn.pipeline import Pipeline\n",
        "\n",
        "# fix random seed for reproducibility\n",
        "seed = 7\n",
        "numpy.random.seed(seed)\n",
        "\n",
        "# ------- Begin data preprocessing\n",
        "\n",
        "# load dataset\n",
        "dataframe = pandas.read_csv(\"iris.data\", header=None)\n",
        "dataset = dataframe.values\n",
        "X = dataset[:,0:4].astype(float)\n",
        "Y = dataset[:,4]\n",
        "\n",
        "# encode class values as integers\n",
        "encoder = LabelEncoder()\n",
        "encoder.fit(Y)\n",
        "encoded_Y = encoder.transform(Y)\n",
        "\n",
        "dummy_y = np_utils.to_categorical(encoded_Y)\n",
        "# ------- End data preprocessing\n",
        "\n",
        "# define baseline model\n",
        "def baseline_model():\n",
        "  # create model\n",
        "  model = Sequential()\n",
        "  model.add(Dense(4, input_dim=4, activation=\"relu\", kernel_initializer=\"normal\"))\n",
        "  model.add(Dense(3, kernel_initializer=\"normal\", activation=\"sigmoid\"))\n",
        "  \n",
        "  # Compile model\n",
        "  model.compile(loss=\"categorical_crossentropy\", optimizer=\"adam\", metrics=['accuracy'])\n",
        "  return model\n",
        "\n",
        "estimator = KerasClassifier(build_fn=baseline_model, epochs=200, batch_size=5)\n",
        "kfold = KFold(n_splits=10, shuffle=True, random_state=seed)\n",
        "results = cross_val_score(estimator, X, dummy_y, cv=kfold)\n",
        "\n",
        "# Summarize\n",
        "print(\"Accuracy: %.2f%%\"%(results.mean()*100))\n",
        "print(\"Standard deviation: %.2f%%\"%(results.std()*100))"
      ],
      "execution_count": 0,
      "outputs": []
    },
    {
      "metadata": {
        "id": "rfSYXXC3VmKD",
        "colab_type": "text"
      },
      "cell_type": "markdown",
      "source": [
        "# Code - modified by Maximo, D.H.\n",
        "\n",
        "Accuracy: 88.67%\n",
        "\n",
        "Standard deviation: **19.10%**\n",
        "\n",
        "Changes: \n",
        "*   Different data preprocessing\n",
        "*   StratifiedKFold\n"
      ]
    },
    {
      "metadata": {
        "id": "m-N_lDm9Wy1l",
        "colab_type": "code",
        "colab": {}
      },
      "cell_type": "code",
      "source": [
        "# Multiclass Classification with the Iris Flowers Dataset\n",
        "import numpy\n",
        "import pandas as pd\n",
        "from keras.models import Sequential\n",
        "from keras.layers import Dense\n",
        "from keras.wrappers.scikit_learn import KerasClassifier\n",
        "from keras.utils import np_utils\n",
        "from sklearn.model_selection import cross_val_score\n",
        "from sklearn.model_selection import StratifiedKFold\n",
        "from sklearn.preprocessing import LabelEncoder\n",
        "from sklearn.pipeline import Pipeline\n",
        "from sklearn import preprocessing\n",
        "\n",
        "# fix random seed for reproducibility\n",
        "seed = 7\n",
        "numpy.random.seed(seed)\n",
        "\n",
        "# ------- Begin data preprocessing\n",
        "\n",
        "# load dataset\n",
        "df = pd.read_csv(\"iris.data\", header=None)\n",
        "X = df.drop(df.columns[-1],1)\n",
        "y = df[df.columns[-1]]\n",
        "\n",
        "# encode class values as integers\n",
        "encoder = LabelEncoder()\n",
        "encoder.fit(y)\n",
        "encoded_y = encoder.transform(y)\n",
        "\n",
        "# ------- End data preprocessing\n",
        "\n",
        "# define baseline model\n",
        "def create_model():\n",
        "  # create model\n",
        "  model = Sequential()\n",
        "  model.add(Dense(4, input_dim=4, activation=\"relu\", kernel_initializer=\"normal\"))\n",
        "  model.add(Dense(3, kernel_initializer=\"normal\", activation=\"sigmoid\"))\n",
        "  \n",
        "  # Compile model\n",
        "  model.compile(loss=\"categorical_crossentropy\", optimizer=\"adam\", metrics=['accuracy'])\n",
        "  return model\n",
        "\n",
        "model = KerasClassifier(build_fn=create_model, epochs=200, batch_size=5)\n",
        "skfold = StratifiedKFold(n_splits=10, shuffle=True, random_state=seed)\n",
        "results = cross_val_score(model, X, encoded_y, cv=skfold)\n",
        "\n",
        "# Summarize\n",
        "print(\"Accuracy: %.2f%%\"%(results.mean()*100))\n",
        "print(\"Standard deviation: %.2f%%\"%(results.std()*100))"
      ],
      "execution_count": 0,
      "outputs": []
    },
    {
      "metadata": {
        "colab_type": "text",
        "id": "o06D-GrXdFrU"
      },
      "cell_type": "markdown",
      "source": [
        "# Code - modified by Maximo, D.H. 2\n",
        "\n",
        "Accuracy: **97.33%**\n",
        "\n",
        "Standard deviation: **5.33%**\n",
        "\n",
        "Changes: \n",
        "*   preprocessing.scale()\n",
        "*   StratifiedKFold\n"
      ]
    },
    {
      "metadata": {
        "colab_type": "code",
        "id": "fg4lxB-jdFrW",
        "colab": {}
      },
      "cell_type": "code",
      "source": [
        "# Multiclass Classification with the Iris Flowers Dataset\n",
        "import numpy\n",
        "import pandas as pd\n",
        "from keras.models import Sequential\n",
        "from keras.layers import Dense\n",
        "from keras.wrappers.scikit_learn import KerasClassifier\n",
        "from keras.utils import np_utils\n",
        "from sklearn.model_selection import cross_val_score\n",
        "from sklearn.model_selection import StratifiedKFold\n",
        "from sklearn.preprocessing import LabelEncoder\n",
        "from sklearn.pipeline import Pipeline\n",
        "from sklearn import preprocessing\n",
        "\n",
        "# fix random seed for reproducibility\n",
        "seed = 7\n",
        "numpy.random.seed(seed)\n",
        "\n",
        "# ------- Begin data preprocessing\n",
        "\n",
        "# load dataset\n",
        "df = pd.read_csv(\"iris.data\", header=None)\n",
        "X = preprocessing.scale(numpy.array(df.drop(df.columns[-1],1)))\n",
        "y = df[df.columns[-1]]\n",
        "\n",
        "# encode class values as integers\n",
        "encoder = LabelEncoder()\n",
        "encoder.fit(y)\n",
        "encoded_y = encoder.transform(y)\n",
        "\n",
        "# ------- End data preprocessing\n",
        "\n",
        "# define baseline model\n",
        "def create_model():\n",
        "  # create model\n",
        "  model = Sequential()\n",
        "  model.add(Dense(4, input_dim=4, activation=\"relu\", kernel_initializer=\"normal\"))\n",
        "  model.add(Dense(3, kernel_initializer=\"normal\", activation=\"sigmoid\"))\n",
        "  \n",
        "  # Compile model\n",
        "  model.compile(loss=\"categorical_crossentropy\", optimizer=\"adam\", metrics=['accuracy'])\n",
        "  return model\n",
        "\n",
        "model = KerasClassifier(build_fn=create_model, epochs=200, batch_size=5)\n",
        "skfold = StratifiedKFold(n_splits=10, shuffle=True, random_state=seed)\n",
        "results = cross_val_score(model, X, encoded_y, cv=skfold)\n",
        "\n",
        "# Summarize\n",
        "print(\"Accuracy: %.2f%%\"%(results.mean()*100))\n",
        "print(\"Standard deviation: %.2f%%\"%(results.std()*100))"
      ],
      "execution_count": 0,
      "outputs": []
    }
  ]
}